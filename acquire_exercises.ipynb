{
 "cells": [
  {
   "cell_type": "markdown",
   "id": "60356631",
   "metadata": {},
   "source": [
    "# Exercises - Data Acquistion"
   ]
  },
  {
   "cell_type": "markdown",
   "id": "544a829e",
   "metadata": {},
   "source": [
    "The end result of this exercise should be a file named acquire.py.\n",
    "\n",
    "1. Using the code from the lesson as a guide and the REST API from https://swapi.dev/ as we did in the lesson, create a dataframe named people that has all of the data for people."
   ]
  },
  {
   "cell_type": "code",
   "execution_count": 107,
   "id": "06d8a273",
   "metadata": {},
   "outputs": [],
   "source": [
    "import requests\n",
    "import pandas as pd\n",
    "import math"
   ]
  },
  {
   "cell_type": "code",
   "execution_count": 108,
   "id": "5d97b170",
   "metadata": {},
   "outputs": [],
   "source": [
    "url = 'https://swapi.dev/api/people/'"
   ]
  },
  {
   "cell_type": "code",
   "execution_count": 109,
   "id": "79d593d1",
   "metadata": {},
   "outputs": [],
   "source": [
    "response = requests.get(url)"
   ]
  },
  {
   "cell_type": "code",
   "execution_count": 110,
   "id": "1087e4f2",
   "metadata": {},
   "outputs": [],
   "source": [
    "data = response.json()"
   ]
  },
  {
   "cell_type": "code",
   "execution_count": 111,
   "id": "ed67d82a",
   "metadata": {},
   "outputs": [],
   "source": [
    "people_df = pd.DataFrame(data['results'])"
   ]
  },
  {
   "cell_type": "code",
   "execution_count": 112,
   "id": "a1404f95",
   "metadata": {},
   "outputs": [
    {
     "name": "stdout",
     "output_type": "stream",
     "text": [
      "https://swapi.dev/api/people/?page=2\n",
      "https://swapi.dev/api/people/?page=3\n",
      "https://swapi.dev/api/people/?page=4\n",
      "https://swapi.dev/api/people/?page=5\n",
      "https://swapi.dev/api/people/?page=6\n",
      "https://swapi.dev/api/people/?page=7\n",
      "https://swapi.dev/api/people/?page=8\n",
      "https://swapi.dev/api/people/?page=9\n"
     ]
    }
   ],
   "source": [
    "while data['next'] != None:\n",
    "    print(data['next'])\n",
    "    response = requests.get(data['next'])\n",
    "    data = response.json()\n",
    "    people_df = pd.concat([people_df, pd.DataFrame(data['results'])], ignore_index = None)"
   ]
  },
  {
   "cell_type": "code",
   "execution_count": 113,
   "id": "cbc8fbc9",
   "metadata": {},
   "outputs": [
    {
     "data": {
      "text/plain": [
       "(82, 16)"
      ]
     },
     "execution_count": 113,
     "metadata": {},
     "output_type": "execute_result"
    }
   ],
   "source": [
    "people_df.shape"
   ]
  },
  {
   "cell_type": "markdown",
   "id": "811adfaf",
   "metadata": {},
   "source": [
    "2. Do the same thing, but for planets."
   ]
  },
  {
   "cell_type": "code",
   "execution_count": 118,
   "id": "d52f18bf",
   "metadata": {},
   "outputs": [],
   "source": [
    "url = 'https://swapi.dev/api/planets/'"
   ]
  },
  {
   "cell_type": "code",
   "execution_count": 119,
   "id": "c398fd6c",
   "metadata": {},
   "outputs": [],
   "source": [
    "response = requests.get(url)"
   ]
  },
  {
   "cell_type": "code",
   "execution_count": 120,
   "id": "24b18398",
   "metadata": {},
   "outputs": [],
   "source": [
    "data = response.json()"
   ]
  },
  {
   "cell_type": "code",
   "execution_count": 121,
   "id": "4281e3dd",
   "metadata": {},
   "outputs": [],
   "source": [
    "planets_df = pd.DataFrame(data['results'])"
   ]
  },
  {
   "cell_type": "code",
   "execution_count": 122,
   "id": "6ae1874d",
   "metadata": {},
   "outputs": [
    {
     "name": "stdout",
     "output_type": "stream",
     "text": [
      "https://swapi.dev/api/planets/?page=2\n",
      "https://swapi.dev/api/planets/?page=3\n",
      "https://swapi.dev/api/planets/?page=4\n",
      "https://swapi.dev/api/planets/?page=5\n",
      "https://swapi.dev/api/planets/?page=6\n"
     ]
    }
   ],
   "source": [
    "while data['next'] != None:\n",
    "    print(data['next'])\n",
    "    response = requests.get(data['next'])\n",
    "    data = response.json()\n",
    "    planets_df = pd.concat([planets_df, pd.DataFrame(data['results'])], ignore_index = None)"
   ]
  },
  {
   "cell_type": "code",
   "execution_count": 123,
   "id": "55918167",
   "metadata": {},
   "outputs": [
    {
     "data": {
      "text/plain": [
       "(60, 14)"
      ]
     },
     "execution_count": 123,
     "metadata": {},
     "output_type": "execute_result"
    }
   ],
   "source": [
    "planets_df.shape"
   ]
  },
  {
   "cell_type": "markdown",
   "id": "6e0eb389",
   "metadata": {},
   "source": [
    "3. Extract the data for starships."
   ]
  },
  {
   "cell_type": "code",
   "execution_count": 124,
   "id": "c07ee220",
   "metadata": {},
   "outputs": [],
   "source": [
    "url = 'https://swapi.dev/api/starships/'"
   ]
  },
  {
   "cell_type": "code",
   "execution_count": 125,
   "id": "5840434c",
   "metadata": {},
   "outputs": [],
   "source": [
    "response = requests.get(url)"
   ]
  },
  {
   "cell_type": "code",
   "execution_count": 126,
   "id": "d1ca49d8",
   "metadata": {},
   "outputs": [],
   "source": [
    "data = response.json()"
   ]
  },
  {
   "cell_type": "code",
   "execution_count": 128,
   "id": "ceafd65e",
   "metadata": {},
   "outputs": [],
   "source": [
    "starships_df = pd.DataFrame(data['results'])"
   ]
  },
  {
   "cell_type": "code",
   "execution_count": 129,
   "id": "dc861279",
   "metadata": {},
   "outputs": [
    {
     "name": "stdout",
     "output_type": "stream",
     "text": [
      "https://swapi.dev/api/starships/?page=2\n",
      "https://swapi.dev/api/starships/?page=3\n",
      "https://swapi.dev/api/starships/?page=4\n"
     ]
    }
   ],
   "source": [
    "while data['next'] != None:\n",
    "    print(data['next'])\n",
    "    response = requests.get(data['next'])\n",
    "    data = response.json()\n",
    "    starships_df = pd.concat([starships_df, pd.DataFrame(data['results'])], ignore_index = None)"
   ]
  },
  {
   "cell_type": "code",
   "execution_count": 130,
   "id": "51d647d3",
   "metadata": {},
   "outputs": [
    {
     "data": {
      "text/plain": [
       "(36, 18)"
      ]
     },
     "execution_count": 130,
     "metadata": {},
     "output_type": "execute_result"
    }
   ],
   "source": [
    "starships_df.shape"
   ]
  },
  {
   "cell_type": "markdown",
   "id": "e5c46d13",
   "metadata": {},
   "source": [
    "4. Save the data in your files to local csv files so that it will be faster to access in the future."
   ]
  },
  {
   "cell_type": "code",
   "execution_count": 132,
   "id": "b7df6317",
   "metadata": {},
   "outputs": [],
   "source": [
    "import os\n",
    "import pandas as pd\n",
    "\n",
    "def get_star_wars_data():\n",
    "    '''\n",
    "    This function reads the star wars data from \n",
    "    'https://swapi.dev/api/ site into a df.\n",
    "    '''\n",
    "\n",
    "    url = 'https://swapi.dev/api/people/'\n",
    "    response = requests.get(url)\n",
    "    data = response.json()\n",
    "    people_df = pd.DataFrame(data['results'])\n",
    "    while data['next'] != None:\n",
    "        print(data['next'])\n",
    "        response = requests.get(data['next'])\n",
    "        data = response.json()\n",
    "        people_df = pd.concat([people_df, pd.DataFrame(data['results'])], ignore_index = None)\n",
    "    \n",
    "    \n",
    "    url = 'https://swapi.dev/api/planets/'\n",
    "    response = requests.get(url)\n",
    "    data = response.json()\n",
    "    planets_df = pd.DataFrame(data['results'])\n",
    "    while data['next'] != None:\n",
    "        print(data['next'])\n",
    "        response = requests.get(data['next'])\n",
    "        data = response.json()\n",
    "        planets_df = pd.concat([planets_df, pd.DataFrame(data['results'])], ignore_index = None)\n",
    "    \n",
    "    url = 'https://swapi.dev/api/starships/'\n",
    "    response = requests.get(url)\n",
    "    data = response.json()\n",
    "    starships_df = pd.DataFrame(data['results'])\n",
    "    while data['next'] != None:\n",
    "        print(data['next'])\n",
    "        response = requests.get(data['next'])\n",
    "        data = response.json()\n",
    "        starships_df = pd.concat([starships_df, pd.DataFrame(data['results'])], ignore_index = None)\n",
    "\n",
    "    people_planets_df = people_df.append(planets_df, ignore_index=True)\n",
    "    people_planets_starships_df = people_planets_df.append(starships_df, ignore_index=True)\n",
    "    \n",
    "    return people_planets_starships_df\n",
    "\n",
    "\n",
    "def acquire_star_wars():\n",
    "    '''\n",
    "    This function reads in star wars data from the \n",
    "    https://swapi.dev/api/ site, writes data to\n",
    "    a csv file if a local file does not exist, and returns a df.\n",
    "    '''\n",
    "    \n",
    "    if os.path.isfile('star_wars.csv'):\n",
    "        \n",
    "        # If csv file exists, read in data from csv file.\n",
    "        people_planets_starships_df = pd.read_csv('star_wars.csv', index_col=0)\n",
    "        \n",
    "    else:\n",
    "\n",
    "        #creates new csv if one does not already exist\n",
    "        people_planets_starships_df = get_star_wars_data()\n",
    "        people_planets_starships_df.to_csv('star_wars.csv')\n",
    "\n",
    "    return people_planets_starships_df\n"
   ]
  },
  {
   "cell_type": "code",
   "execution_count": 133,
   "id": "0facde4c",
   "metadata": {},
   "outputs": [
    {
     "name": "stdout",
     "output_type": "stream",
     "text": [
      "https://swapi.dev/api/people/?page=2\n",
      "https://swapi.dev/api/people/?page=3\n",
      "https://swapi.dev/api/people/?page=4\n",
      "https://swapi.dev/api/people/?page=5\n",
      "https://swapi.dev/api/people/?page=6\n",
      "https://swapi.dev/api/people/?page=7\n",
      "https://swapi.dev/api/people/?page=8\n",
      "https://swapi.dev/api/people/?page=9\n",
      "https://swapi.dev/api/planets/?page=2\n",
      "https://swapi.dev/api/planets/?page=3\n",
      "https://swapi.dev/api/planets/?page=4\n",
      "https://swapi.dev/api/planets/?page=5\n",
      "https://swapi.dev/api/planets/?page=6\n",
      "https://swapi.dev/api/starships/?page=2\n",
      "https://swapi.dev/api/starships/?page=3\n",
      "https://swapi.dev/api/starships/?page=4\n"
     ]
    },
    {
     "name": "stderr",
     "output_type": "stream",
     "text": [
      "/var/folders/2g/_40bymd11_x47n42bls8ypmr0000gn/T/ipykernel_19034/3699133473.py:41: FutureWarning: The frame.append method is deprecated and will be removed from pandas in a future version. Use pandas.concat instead.\n",
      "  people_planets_df = people_df.append(planets_df, ignore_index=True)\n",
      "/var/folders/2g/_40bymd11_x47n42bls8ypmr0000gn/T/ipykernel_19034/3699133473.py:42: FutureWarning: The frame.append method is deprecated and will be removed from pandas in a future version. Use pandas.concat instead.\n",
      "  people_planets_starships_df = people_planets_df.append(starships_df, ignore_index=True)\n"
     ]
    }
   ],
   "source": [
    "starwars_df = acquire_star_wars()\n"
   ]
  },
  {
   "cell_type": "markdown",
   "id": "7b103d16",
   "metadata": {},
   "source": [
    "5. Combine the data from your three separate dataframes into one large dataframe."
   ]
  },
  {
   "cell_type": "code",
   "execution_count": 134,
   "id": "89a7c0f4",
   "metadata": {},
   "outputs": [
    {
     "name": "stdout",
     "output_type": "stream",
     "text": [
      "https://swapi.dev/api/people/?page=2\n",
      "https://swapi.dev/api/people/?page=3\n",
      "https://swapi.dev/api/people/?page=4\n",
      "https://swapi.dev/api/people/?page=5\n",
      "https://swapi.dev/api/people/?page=6\n",
      "https://swapi.dev/api/people/?page=7\n",
      "https://swapi.dev/api/people/?page=8\n",
      "https://swapi.dev/api/people/?page=9\n",
      "https://swapi.dev/api/planets/?page=2\n",
      "https://swapi.dev/api/planets/?page=3\n",
      "https://swapi.dev/api/planets/?page=4\n",
      "https://swapi.dev/api/planets/?page=5\n",
      "https://swapi.dev/api/planets/?page=6\n",
      "https://swapi.dev/api/starships/?page=2\n",
      "https://swapi.dev/api/starships/?page=3\n",
      "https://swapi.dev/api/starships/?page=4\n"
     ]
    },
    {
     "name": "stderr",
     "output_type": "stream",
     "text": [
      "/var/folders/2g/_40bymd11_x47n42bls8ypmr0000gn/T/ipykernel_19034/3699133473.py:41: FutureWarning: The frame.append method is deprecated and will be removed from pandas in a future version. Use pandas.concat instead.\n",
      "  people_planets_df = people_df.append(planets_df, ignore_index=True)\n",
      "/var/folders/2g/_40bymd11_x47n42bls8ypmr0000gn/T/ipykernel_19034/3699133473.py:42: FutureWarning: The frame.append method is deprecated and will be removed from pandas in a future version. Use pandas.concat instead.\n",
      "  people_planets_starships_df = people_planets_df.append(starships_df, ignore_index=True)\n"
     ]
    },
    {
     "data": {
      "text/html": [
       "<div>\n",
       "<style scoped>\n",
       "    .dataframe tbody tr th:only-of-type {\n",
       "        vertical-align: middle;\n",
       "    }\n",
       "\n",
       "    .dataframe tbody tr th {\n",
       "        vertical-align: top;\n",
       "    }\n",
       "\n",
       "    .dataframe thead th {\n",
       "        text-align: right;\n",
       "    }\n",
       "</style>\n",
       "<table border=\"1\" class=\"dataframe\">\n",
       "  <thead>\n",
       "    <tr style=\"text-align: right;\">\n",
       "      <th></th>\n",
       "      <th>name</th>\n",
       "      <th>height</th>\n",
       "      <th>mass</th>\n",
       "      <th>hair_color</th>\n",
       "      <th>skin_color</th>\n",
       "      <th>eye_color</th>\n",
       "      <th>birth_year</th>\n",
       "      <th>gender</th>\n",
       "      <th>homeworld</th>\n",
       "      <th>films</th>\n",
       "      <th>...</th>\n",
       "      <th>length</th>\n",
       "      <th>max_atmosphering_speed</th>\n",
       "      <th>crew</th>\n",
       "      <th>passengers</th>\n",
       "      <th>cargo_capacity</th>\n",
       "      <th>consumables</th>\n",
       "      <th>hyperdrive_rating</th>\n",
       "      <th>MGLT</th>\n",
       "      <th>starship_class</th>\n",
       "      <th>pilots</th>\n",
       "    </tr>\n",
       "  </thead>\n",
       "  <tbody>\n",
       "    <tr>\n",
       "      <th>0</th>\n",
       "      <td>Luke Skywalker</td>\n",
       "      <td>172</td>\n",
       "      <td>77</td>\n",
       "      <td>blond</td>\n",
       "      <td>fair</td>\n",
       "      <td>blue</td>\n",
       "      <td>19BBY</td>\n",
       "      <td>male</td>\n",
       "      <td>https://swapi.dev/api/planets/1/</td>\n",
       "      <td>[https://swapi.dev/api/films/1/, https://swapi...</td>\n",
       "      <td>...</td>\n",
       "      <td>NaN</td>\n",
       "      <td>NaN</td>\n",
       "      <td>NaN</td>\n",
       "      <td>NaN</td>\n",
       "      <td>NaN</td>\n",
       "      <td>NaN</td>\n",
       "      <td>NaN</td>\n",
       "      <td>NaN</td>\n",
       "      <td>NaN</td>\n",
       "      <td>NaN</td>\n",
       "    </tr>\n",
       "    <tr>\n",
       "      <th>1</th>\n",
       "      <td>C-3PO</td>\n",
       "      <td>167</td>\n",
       "      <td>75</td>\n",
       "      <td>n/a</td>\n",
       "      <td>gold</td>\n",
       "      <td>yellow</td>\n",
       "      <td>112BBY</td>\n",
       "      <td>n/a</td>\n",
       "      <td>https://swapi.dev/api/planets/1/</td>\n",
       "      <td>[https://swapi.dev/api/films/1/, https://swapi...</td>\n",
       "      <td>...</td>\n",
       "      <td>NaN</td>\n",
       "      <td>NaN</td>\n",
       "      <td>NaN</td>\n",
       "      <td>NaN</td>\n",
       "      <td>NaN</td>\n",
       "      <td>NaN</td>\n",
       "      <td>NaN</td>\n",
       "      <td>NaN</td>\n",
       "      <td>NaN</td>\n",
       "      <td>NaN</td>\n",
       "    </tr>\n",
       "    <tr>\n",
       "      <th>2</th>\n",
       "      <td>R2-D2</td>\n",
       "      <td>96</td>\n",
       "      <td>32</td>\n",
       "      <td>n/a</td>\n",
       "      <td>white, blue</td>\n",
       "      <td>red</td>\n",
       "      <td>33BBY</td>\n",
       "      <td>n/a</td>\n",
       "      <td>https://swapi.dev/api/planets/8/</td>\n",
       "      <td>[https://swapi.dev/api/films/1/, https://swapi...</td>\n",
       "      <td>...</td>\n",
       "      <td>NaN</td>\n",
       "      <td>NaN</td>\n",
       "      <td>NaN</td>\n",
       "      <td>NaN</td>\n",
       "      <td>NaN</td>\n",
       "      <td>NaN</td>\n",
       "      <td>NaN</td>\n",
       "      <td>NaN</td>\n",
       "      <td>NaN</td>\n",
       "      <td>NaN</td>\n",
       "    </tr>\n",
       "    <tr>\n",
       "      <th>3</th>\n",
       "      <td>Darth Vader</td>\n",
       "      <td>202</td>\n",
       "      <td>136</td>\n",
       "      <td>none</td>\n",
       "      <td>white</td>\n",
       "      <td>yellow</td>\n",
       "      <td>41.9BBY</td>\n",
       "      <td>male</td>\n",
       "      <td>https://swapi.dev/api/planets/1/</td>\n",
       "      <td>[https://swapi.dev/api/films/1/, https://swapi...</td>\n",
       "      <td>...</td>\n",
       "      <td>NaN</td>\n",
       "      <td>NaN</td>\n",
       "      <td>NaN</td>\n",
       "      <td>NaN</td>\n",
       "      <td>NaN</td>\n",
       "      <td>NaN</td>\n",
       "      <td>NaN</td>\n",
       "      <td>NaN</td>\n",
       "      <td>NaN</td>\n",
       "      <td>NaN</td>\n",
       "    </tr>\n",
       "    <tr>\n",
       "      <th>4</th>\n",
       "      <td>Leia Organa</td>\n",
       "      <td>150</td>\n",
       "      <td>49</td>\n",
       "      <td>brown</td>\n",
       "      <td>light</td>\n",
       "      <td>brown</td>\n",
       "      <td>19BBY</td>\n",
       "      <td>female</td>\n",
       "      <td>https://swapi.dev/api/planets/2/</td>\n",
       "      <td>[https://swapi.dev/api/films/1/, https://swapi...</td>\n",
       "      <td>...</td>\n",
       "      <td>NaN</td>\n",
       "      <td>NaN</td>\n",
       "      <td>NaN</td>\n",
       "      <td>NaN</td>\n",
       "      <td>NaN</td>\n",
       "      <td>NaN</td>\n",
       "      <td>NaN</td>\n",
       "      <td>NaN</td>\n",
       "      <td>NaN</td>\n",
       "      <td>NaN</td>\n",
       "    </tr>\n",
       "  </tbody>\n",
       "</table>\n",
       "<p>5 rows × 38 columns</p>\n",
       "</div>"
      ],
      "text/plain": [
       "             name height mass hair_color   skin_color eye_color birth_year  \\\n",
       "0  Luke Skywalker    172   77      blond         fair      blue      19BBY   \n",
       "1           C-3PO    167   75        n/a         gold    yellow     112BBY   \n",
       "2           R2-D2     96   32        n/a  white, blue       red      33BBY   \n",
       "3     Darth Vader    202  136       none        white    yellow    41.9BBY   \n",
       "4     Leia Organa    150   49      brown        light     brown      19BBY   \n",
       "\n",
       "   gender                         homeworld  \\\n",
       "0    male  https://swapi.dev/api/planets/1/   \n",
       "1     n/a  https://swapi.dev/api/planets/1/   \n",
       "2     n/a  https://swapi.dev/api/planets/8/   \n",
       "3    male  https://swapi.dev/api/planets/1/   \n",
       "4  female  https://swapi.dev/api/planets/2/   \n",
       "\n",
       "                                               films  ... length  \\\n",
       "0  [https://swapi.dev/api/films/1/, https://swapi...  ...    NaN   \n",
       "1  [https://swapi.dev/api/films/1/, https://swapi...  ...    NaN   \n",
       "2  [https://swapi.dev/api/films/1/, https://swapi...  ...    NaN   \n",
       "3  [https://swapi.dev/api/films/1/, https://swapi...  ...    NaN   \n",
       "4  [https://swapi.dev/api/films/1/, https://swapi...  ...    NaN   \n",
       "\n",
       "  max_atmosphering_speed crew passengers cargo_capacity consumables  \\\n",
       "0                    NaN  NaN        NaN            NaN         NaN   \n",
       "1                    NaN  NaN        NaN            NaN         NaN   \n",
       "2                    NaN  NaN        NaN            NaN         NaN   \n",
       "3                    NaN  NaN        NaN            NaN         NaN   \n",
       "4                    NaN  NaN        NaN            NaN         NaN   \n",
       "\n",
       "  hyperdrive_rating MGLT starship_class pilots  \n",
       "0               NaN  NaN            NaN    NaN  \n",
       "1               NaN  NaN            NaN    NaN  \n",
       "2               NaN  NaN            NaN    NaN  \n",
       "3               NaN  NaN            NaN    NaN  \n",
       "4               NaN  NaN            NaN    NaN  \n",
       "\n",
       "[5 rows x 38 columns]"
      ]
     },
     "execution_count": 134,
     "metadata": {},
     "output_type": "execute_result"
    }
   ],
   "source": [
    "starwars_df = get_star_wars_data()\n",
    "starwars_df.head()"
   ]
  },
  {
   "cell_type": "code",
   "execution_count": 135,
   "id": "e7013199",
   "metadata": {},
   "outputs": [
    {
     "data": {
      "text/plain": [
       "(178, 38)"
      ]
     },
     "execution_count": 135,
     "metadata": {},
     "output_type": "execute_result"
    }
   ],
   "source": [
    "starwars_df.shape"
   ]
  },
  {
   "cell_type": "markdown",
   "id": "2a9baed0",
   "metadata": {},
   "source": [
    "6. Acquire the Open Power Systems Data for Germany, which has been rapidly expanding its renewable energy production in recent years. The data set includes country-wide totals of electricity consumption, wind power production, and solar power production for 2006-2017. You can get the data here: https://raw.githubusercontent.com/jenfly/opsd/master/opsd_germany_daily.csv"
   ]
  },
  {
   "cell_type": "code",
   "execution_count": 23,
   "id": "41eb901c",
   "metadata": {},
   "outputs": [
    {
     "data": {
      "text/html": [
       "<div>\n",
       "<style scoped>\n",
       "    .dataframe tbody tr th:only-of-type {\n",
       "        vertical-align: middle;\n",
       "    }\n",
       "\n",
       "    .dataframe tbody tr th {\n",
       "        vertical-align: top;\n",
       "    }\n",
       "\n",
       "    .dataframe thead th {\n",
       "        text-align: right;\n",
       "    }\n",
       "</style>\n",
       "<table border=\"1\" class=\"dataframe\">\n",
       "  <thead>\n",
       "    <tr style=\"text-align: right;\">\n",
       "      <th></th>\n",
       "      <th>Date</th>\n",
       "      <th>Consumption</th>\n",
       "      <th>Wind</th>\n",
       "      <th>Solar</th>\n",
       "      <th>Wind+Solar</th>\n",
       "    </tr>\n",
       "  </thead>\n",
       "  <tbody>\n",
       "    <tr>\n",
       "      <th>0</th>\n",
       "      <td>2006-01-01</td>\n",
       "      <td>1069.184</td>\n",
       "      <td>NaN</td>\n",
       "      <td>NaN</td>\n",
       "      <td>NaN</td>\n",
       "    </tr>\n",
       "    <tr>\n",
       "      <th>1</th>\n",
       "      <td>2006-01-02</td>\n",
       "      <td>1380.521</td>\n",
       "      <td>NaN</td>\n",
       "      <td>NaN</td>\n",
       "      <td>NaN</td>\n",
       "    </tr>\n",
       "    <tr>\n",
       "      <th>2</th>\n",
       "      <td>2006-01-03</td>\n",
       "      <td>1442.533</td>\n",
       "      <td>NaN</td>\n",
       "      <td>NaN</td>\n",
       "      <td>NaN</td>\n",
       "    </tr>\n",
       "    <tr>\n",
       "      <th>3</th>\n",
       "      <td>2006-01-04</td>\n",
       "      <td>1457.217</td>\n",
       "      <td>NaN</td>\n",
       "      <td>NaN</td>\n",
       "      <td>NaN</td>\n",
       "    </tr>\n",
       "    <tr>\n",
       "      <th>4</th>\n",
       "      <td>2006-01-05</td>\n",
       "      <td>1477.131</td>\n",
       "      <td>NaN</td>\n",
       "      <td>NaN</td>\n",
       "      <td>NaN</td>\n",
       "    </tr>\n",
       "  </tbody>\n",
       "</table>\n",
       "</div>"
      ],
      "text/plain": [
       "         Date  Consumption  Wind  Solar  Wind+Solar\n",
       "0  2006-01-01     1069.184   NaN    NaN         NaN\n",
       "1  2006-01-02     1380.521   NaN    NaN         NaN\n",
       "2  2006-01-03     1442.533   NaN    NaN         NaN\n",
       "3  2006-01-04     1457.217   NaN    NaN         NaN\n",
       "4  2006-01-05     1477.131   NaN    NaN         NaN"
      ]
     },
     "execution_count": 23,
     "metadata": {},
     "output_type": "execute_result"
    }
   ],
   "source": [
    "open_power_df = pd.read_csv('https://raw.githubusercontent.com/jenfly/opsd/master/opsd_germany_daily.csv')\n",
    "open_power_df.head()"
   ]
  },
  {
   "cell_type": "markdown",
   "id": "0d47dcfc",
   "metadata": {},
   "source": [
    "7. Make sure all the work that you have done above is reproducible. That is, you should put the code above into separate functions in the acquire.py file and be able to re-run the functions and get the same data."
   ]
  },
  {
   "cell_type": "code",
   "execution_count": 24,
   "id": "cd441341",
   "metadata": {},
   "outputs": [],
   "source": [
    "def get_open_power_data():\n",
    "    '''\n",
    "    This function reads the open power data from \n",
    "    'https://raw.githubusercontent.com site into a df.\n",
    "    '''\n",
    "    \n",
    "    open_power_df = pd.read_csv('https://raw.githubusercontent.com/jenfly/opsd/master/opsd_germany_daily.csv')\n",
    "    \n",
    "    return open_power_df\n",
    "\n",
    "\n",
    "def acquire_open_power():\n",
    "    '''\n",
    "    This function reads in open power data from the \n",
    "    https://raw.githubusercontent.com/jenfly/opsd/master/opsd_germany_daily.csv \n",
    "    site, writes data to a csv file if a local file does not exist, and returns a df.\n",
    "    '''\n",
    "    if os.path.isfile('open_power.csv'):\n",
    "        \n",
    "        # If csv file exists, read in data from csv file.\n",
    "        open_power = pd.read_csv('open_power.csv', index_col=0)\n",
    "        \n",
    "    else:\n",
    "\n",
    "        #creates new csv if one does not already exist\n",
    "        open_power = get_open_power_data()\n",
    "        open_power.to_csv('open_power.csv')\n",
    "\n",
    "    return open_power"
   ]
  },
  {
   "cell_type": "code",
   "execution_count": 25,
   "id": "8286b083",
   "metadata": {},
   "outputs": [],
   "source": [
    "open_power = acquire_open_power()"
   ]
  },
  {
   "cell_type": "code",
   "execution_count": 26,
   "id": "0b0585ec",
   "metadata": {},
   "outputs": [
    {
     "data": {
      "text/html": [
       "<div>\n",
       "<style scoped>\n",
       "    .dataframe tbody tr th:only-of-type {\n",
       "        vertical-align: middle;\n",
       "    }\n",
       "\n",
       "    .dataframe tbody tr th {\n",
       "        vertical-align: top;\n",
       "    }\n",
       "\n",
       "    .dataframe thead th {\n",
       "        text-align: right;\n",
       "    }\n",
       "</style>\n",
       "<table border=\"1\" class=\"dataframe\">\n",
       "  <thead>\n",
       "    <tr style=\"text-align: right;\">\n",
       "      <th></th>\n",
       "      <th>Date</th>\n",
       "      <th>Consumption</th>\n",
       "      <th>Wind</th>\n",
       "      <th>Solar</th>\n",
       "      <th>Wind+Solar</th>\n",
       "    </tr>\n",
       "  </thead>\n",
       "  <tbody>\n",
       "    <tr>\n",
       "      <th>0</th>\n",
       "      <td>2006-01-01</td>\n",
       "      <td>1069.184</td>\n",
       "      <td>NaN</td>\n",
       "      <td>NaN</td>\n",
       "      <td>NaN</td>\n",
       "    </tr>\n",
       "    <tr>\n",
       "      <th>1</th>\n",
       "      <td>2006-01-02</td>\n",
       "      <td>1380.521</td>\n",
       "      <td>NaN</td>\n",
       "      <td>NaN</td>\n",
       "      <td>NaN</td>\n",
       "    </tr>\n",
       "    <tr>\n",
       "      <th>2</th>\n",
       "      <td>2006-01-03</td>\n",
       "      <td>1442.533</td>\n",
       "      <td>NaN</td>\n",
       "      <td>NaN</td>\n",
       "      <td>NaN</td>\n",
       "    </tr>\n",
       "    <tr>\n",
       "      <th>3</th>\n",
       "      <td>2006-01-04</td>\n",
       "      <td>1457.217</td>\n",
       "      <td>NaN</td>\n",
       "      <td>NaN</td>\n",
       "      <td>NaN</td>\n",
       "    </tr>\n",
       "    <tr>\n",
       "      <th>4</th>\n",
       "      <td>2006-01-05</td>\n",
       "      <td>1477.131</td>\n",
       "      <td>NaN</td>\n",
       "      <td>NaN</td>\n",
       "      <td>NaN</td>\n",
       "    </tr>\n",
       "  </tbody>\n",
       "</table>\n",
       "</div>"
      ],
      "text/plain": [
       "         Date  Consumption  Wind  Solar  Wind+Solar\n",
       "0  2006-01-01     1069.184   NaN    NaN         NaN\n",
       "1  2006-01-02     1380.521   NaN    NaN         NaN\n",
       "2  2006-01-03     1442.533   NaN    NaN         NaN\n",
       "3  2006-01-04     1457.217   NaN    NaN         NaN\n",
       "4  2006-01-05     1477.131   NaN    NaN         NaN"
      ]
     },
     "execution_count": 26,
     "metadata": {},
     "output_type": "execute_result"
    }
   ],
   "source": [
    "open_power_df = get_open_power_data()\n",
    "open_power_df.head()"
   ]
  }
 ],
 "metadata": {
  "kernelspec": {
   "display_name": "Python 3 (ipykernel)",
   "language": "python",
   "name": "python3"
  },
  "language_info": {
   "codemirror_mode": {
    "name": "ipython",
    "version": 3
   },
   "file_extension": ".py",
   "mimetype": "text/x-python",
   "name": "python",
   "nbconvert_exporter": "python",
   "pygments_lexer": "ipython3",
   "version": "3.9.13"
  }
 },
 "nbformat": 4,
 "nbformat_minor": 5
}
